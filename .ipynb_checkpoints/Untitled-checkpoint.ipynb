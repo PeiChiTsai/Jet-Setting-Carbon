{
 "cells": [
  {
   "cell_type": "code",
   "execution_count": 7,
   "id": "2d37de43-e108-4e1d-94fd-1438be116a5e",
   "metadata": {},
   "outputs": [
    {
     "name": "stdout",
     "output_type": "stream",
     "text": [
      "✔ Processed Tab2_Europe.html:\n",
      "  → Extracted CSS: css/tab2_europe.css\n",
      "  → Extracted JS:  js/tab2_europe.js\n",
      "✔ Processed Tab3_City.html:\n",
      "  → Extracted CSS: css/tab3_city.css\n",
      "  → Extracted JS:  js/tab3_city.js\n"
     ]
    }
   ],
   "source": [
    "import os\n",
    "import re\n",
    "\n",
    "\n",
    "\n",
    "# 文件匹配规则（Tab1_*.html 等）\n",
    "html_files = [f for f in os.listdir(BASE_DIR) if f.lower().endswith(\".html\") and f.lower().startswith(\"tab\")]\n",
    "\n",
    "# 创建资源目录\n",
    "os.makedirs(os.path.join(BASE_DIR, \"css\"), exist_ok=True)\n",
    "os.makedirs(os.path.join(BASE_DIR, \"js\"), exist_ok=True)\n",
    "\n",
    "# 正则提取 style 和 script（不含 src 的 script）\n",
    "style_pattern = re.compile(r\"<style.*?>(.*?)</style>\", re.DOTALL)\n",
    "script_pattern = re.compile(r\"<script(?![^>]*src).*?>(.*?)</script>\", re.DOTALL)\n",
    "\n",
    "for html_file in html_files:\n",
    "    with open(os.path.join(BASE_DIR, html_file), \"r\", encoding=\"utf-8\") as f:\n",
    "        content = f.read()\n",
    "\n",
    "    base_name = os.path.splitext(html_file)[0].lower()  # e.g., tab1_3dglobe\n",
    "\n",
    "    # 提取 <style> 内容并写入 CSS 文件\n",
    "    styles = style_pattern.findall(content)\n",
    "    if styles:\n",
    "        css_path = os.path.join(\"css\", f\"{base_name}.css\")\n",
    "        with open(os.path.join(BASE_DIR, css_path), \"w\", encoding=\"utf-8\") as f_css:\n",
    "            f_css.write(\"\\n\\n\".join(styles))\n",
    "        content = style_pattern.sub(\"\", content)\n",
    "        css_link = f'<link rel=\"stylesheet\" href=\"{css_path}\">'\n",
    "        content = content.replace(\"</head>\", f\"  {css_link}\\n</head>\")\n",
    "\n",
    "    # 提取 <script> 内容并写入 JS 文件\n",
    "    scripts = script_pattern.findall(content)\n",
    "    if scripts:\n",
    "        js_path = os.path.join(\"js\", f\"{base_name}.js\")\n",
    "        with open(os.path.join(BASE_DIR, js_path), \"w\", encoding=\"utf-8\") as f_js:\n",
    "            f_js.write(\"\\n\\n\".join(scripts))\n",
    "        content = script_pattern.sub(\"\", content)\n",
    "        js_link = f'<script src=\"{js_path}\"></script>'\n",
    "        content = content.replace(\"</body>\", f\"  {js_link}\\n</body>\")\n",
    "\n",
    "    # 保存修改后的 HTML\n",
    "    with open(os.path.join(BASE_DIR, html_file), \"w\", encoding=\"utf-8\") as f_out:\n",
    "        f_out.write(content)\n",
    "\n",
    "    print(f\"✔ Processed {html_file}:\")\n",
    "    if styles:\n",
    "        print(f\"  → Extracted CSS: {css_path}\")\n",
    "    if scripts:\n",
    "        print(f\"  → Extracted JS:  {js_path}\")\n"
   ]
  },
  {
   "cell_type": "code",
   "execution_count": 8,
   "id": "725f6df2-3ce0-4bf4-b938-38c03d63cdf4",
   "metadata": {},
   "outputs": [
    {
     "name": "stdout",
     "output_type": "stream",
     "text": [
      "✔ 提取完成：index.html → css/index.css, js/index.js\n"
     ]
    }
   ],
   "source": [
    "import os\n",
    "import re\n",
    "\n",
    "# 假设当前目录有 index.html\n",
    "html_file = os.path.join(BASE_DIR, \"index.html\")\n",
    "\n",
    "# 创建目录\n",
    "css_dir = os.path.join(BASE_DIR, \"css\")\n",
    "js_dir = os.path.join(BASE_DIR, \"js\")\n",
    "os.makedirs(css_dir, exist_ok=True)\n",
    "os.makedirs(js_dir, exist_ok=True)\n",
    "\n",
    "# 正则提取 <style> 和 非 src 的 <script>\n",
    "style_pattern = re.compile(r\"<style.*?>(.*?)</style>\", re.DOTALL)\n",
    "script_pattern = re.compile(r\"<script(?![^>]*src).*?>(.*?)</script>\", re.DOTALL)\n",
    "\n",
    "# 读取 HTML 内容\n",
    "with open(html_file, \"r\", encoding=\"utf-8\") as f:\n",
    "    content = f.read()\n",
    "\n",
    "# 提取 <style>\n",
    "styles = style_pattern.findall(content)\n",
    "if styles:\n",
    "    css_path = os.path.join(css_dir, \"index.css\")\n",
    "    with open(css_path, \"w\", encoding=\"utf-8\") as f_css:\n",
    "        f_css.write(\"\\n\\n\".join(styles))\n",
    "    content = style_pattern.sub(\"\", content)\n",
    "    css_link = '<link rel=\"stylesheet\" href=\"css/index.css\">'\n",
    "    content = content.replace(\"</head>\", f\"  {css_link}\\n</head>\")\n",
    "\n",
    "# 提取 <script> 并包裹 DOMContentLoaded\n",
    "scripts = script_pattern.findall(content)\n",
    "if scripts:\n",
    "    js_wrapped = (\n",
    "        \"document.addEventListener('DOMContentLoaded', function() {\\n\"\n",
    "        + \"\\n\\n\".join(scripts)\n",
    "        + \"\\n});\"\n",
    "    )\n",
    "    js_path = os.path.join(js_dir, \"index.js\")\n",
    "    with open(js_path, \"w\", encoding=\"utf-8\") as f_js:\n",
    "        f_js.write(js_wrapped)\n",
    "    content = script_pattern.sub(\"\", content)\n",
    "    js_script = '<script src=\"js/index.js\"></script>'\n",
    "    content = content.replace(\"</body>\", f\"  {js_script}\\n</body>\")\n",
    "\n",
    "# 写回修改后的 HTML\n",
    "with open(html_file, \"w\", encoding=\"utf-8\") as f_out:\n",
    "    f_out.write(content)\n",
    "\n",
    "print(\"✔ 提取完成：index.html → css/index.css, js/index.js\")\n"
   ]
  },
  {
   "cell_type": "code",
   "execution_count": null,
   "id": "0d67fe83-8981-4e10-88ec-ed96df55d98e",
   "metadata": {},
   "outputs": [],
   "source": []
  }
 ],
 "metadata": {
  "kernelspec": {
   "display_name": "Python (base)",
   "language": "python",
   "name": "base"
  },
  "language_info": {
   "codemirror_mode": {
    "name": "ipython",
    "version": 3
   },
   "file_extension": ".py",
   "mimetype": "text/x-python",
   "name": "python",
   "nbconvert_exporter": "python",
   "pygments_lexer": "ipython3",
   "version": "3.11.9"
  }
 },
 "nbformat": 4,
 "nbformat_minor": 5
}
